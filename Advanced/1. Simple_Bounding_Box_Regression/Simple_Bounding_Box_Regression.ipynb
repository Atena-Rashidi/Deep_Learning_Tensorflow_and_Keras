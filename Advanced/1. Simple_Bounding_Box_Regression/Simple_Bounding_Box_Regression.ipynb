{
  "nbformat": 4,
  "nbformat_minor": 0,
  "metadata": {
    "colab": {
      "provenance": []
    },
    "kernelspec": {
      "name": "python3",
      "display_name": "Python 3"
    },
    "language_info": {
      "name": "python"
    },
    "accelerator": "GPU",
    "gpuClass": "standard"
  },
  "cells": [
    {
      "cell_type": "markdown",
      "source": [
        "# Bounding Box Regression\n",
        "To construct a CNN architecture that can output bounding box coordinates: we can actually train the model to make better object detector predictions.\n"
      ],
      "metadata": {
        "id": "Uyswok0VNCXL"
      }
    },
    {
      "cell_type": "code",
      "execution_count": 1,
      "metadata": {
        "id": "Ivq4U8w97e7E",
        "colab": {
          "base_uri": "https://localhost:8080/"
        },
        "outputId": "623797f4-d9ef-4414-c4f9-8b11cd84a199"
      },
      "outputs": [
        {
          "output_type": "stream",
          "name": "stdout",
          "text": [
            "2.9.2\n"
          ]
        },
        {
          "output_type": "execute_result",
          "data": {
            "text/plain": [
              "[PhysicalDevice(name='/physical_device:CPU:0', device_type='CPU'),\n",
              " PhysicalDevice(name='/physical_device:GPU:0', device_type='GPU')]"
            ]
          },
          "metadata": {},
          "execution_count": 1
        }
      ],
      "source": [
        "import tensorflow as tf\n",
        "print(tf.__version__)\n",
        "tf.config.list_physical_devices()"
      ]
    },
    {
      "cell_type": "code",
      "source": [
        "import os\n",
        "import cv2\n",
        "import numpy as np\n",
        "import matplotlib.pyplot as plt\n",
        "\n",
        "from  tensorflow.keras.applications import VGG16\n",
        "\n",
        "from tensorflow.keras.layers import Flatten\n",
        "from tensorflow.keras.layers import Dense\n",
        "from tensorflow.keras.layers import Input\n",
        "\n",
        "from tensorflow.keras.models import Sequential\n",
        "\n",
        "from tensorflow.keras.preprocessing.image import img_to_array\n",
        "from tensorflow.keras.preprocessing.image import load_img\n",
        "\n",
        "from tensorflow.keras.optimizers import Adam\n",
        "\n",
        "from sklearn.model_selection import train_test_split"
      ],
      "metadata": {
        "id": "KGkVFMLUTAXh"
      },
      "execution_count": 22,
      "outputs": []
    },
    {
      "cell_type": "code",
      "source": [
        "# main forlder: including images folder and csv file\n",
        "BASE_PATH = \"dataset\"\n",
        "# Concatenate any number of strings.\n",
        "# The string whose method is called is inserted in between each given string.\n",
        "# The result is returned as a new string.\n",
        "IMAGES_PATH = os.path.sep.join([BASE_PATH, \"images\"])\n",
        "ANNOTS_PATH = os.path.sep.join([BASE_PATH, \"airplanes.csv\"])"
      ],
      "metadata": {
        "id": "KB2XOpIfVJhx"
      },
      "execution_count": 3,
      "outputs": []
    },
    {
      "cell_type": "code",
      "source": [
        "# initialize three lists:\n",
        "# data --> images in numpy array\n",
        "# target --> output predictions(bounding box coordinates) \n",
        "# filenames of the individual images\n",
        "data = []\n",
        "targets = []\n",
        "filenames = []"
      ],
      "metadata": {
        "id": "XThikUxAXfrN"
      },
      "execution_count": 4,
      "outputs": []
    },
    {
      "cell_type": "code",
      "source": [
        "rows = open(ANNOTS_PATH).read().strip().split(\"\\n\")\n",
        "# loop over the rows\n",
        "for row in rows:\n",
        "    # break the row into the filename and bounding box coordinates\n",
        "    (filename, startX, startY, endX, endY) = row.split(\",\")\n",
        "\n",
        "    # derive the path to the input image, load the image (in OpenCV\n",
        "    # format), and grab its dimensions\n",
        "    imagePath = os.path.sep.join([IMAGES_PATH, filename])\n",
        "    image = cv2.imread(imagePath)\n",
        "    (h, w) = image.shape[:2]\n",
        "\n",
        "    # scale the bounding box coordinates relative to the spatial\n",
        "    # dimensions of the input image\n",
        "    startX = float(startX) / w\n",
        "    startY = float(startY) / h\n",
        "    endX = float(endX) / w\n",
        "    endY = float(endY) / h\n",
        "\n",
        "    # load the image and preprocess it\n",
        "    image = load_img(imagePath, target_size=(224, 224))\n",
        "    image = img_to_array(image)\n",
        "\n",
        "    # update our list of data, targets, and filenames\n",
        "    data.append(image)\n",
        "    targets.append((startX, startY, endX, endY))\n",
        "    filenames.append(filename)"
      ],
      "metadata": {
        "id": "zf_eBv2EZNZI"
      },
      "execution_count": 5,
      "outputs": []
    },
    {
      "cell_type": "code",
      "source": [
        "# convert the data and targets to NumPy arrays and float32\n",
        "# Scaling the input pixel intensities from the range [0, 255] to [0, 1]\n",
        "data = np.array(data, dtype=\"float32\") / 255.0\n",
        "targets = np.array(targets, dtype=\"float32\")"
      ],
      "metadata": {
        "id": "rGaQHEGEuYCt"
      },
      "execution_count": 6,
      "outputs": []
    },
    {
      "cell_type": "code",
      "source": [
        "# Partition the data into training and testing splits using 90% of\n",
        "# the data for training and the remaining 10% for testing\n",
        "split = train_test_split(data, targets, filenames, test_size=0.10, random_state=42)\n",
        "\n",
        "# unpack the data split\n",
        "(trainImages, testImages) = split[:2]\n",
        "(trainTargets, testTargets) = split[2:4]\n",
        "(trainFilenames, testFilenames) = split[4:]"
      ],
      "metadata": {
        "id": "ybvkpDzjvZ0O"
      },
      "execution_count": 7,
      "outputs": []
    },
    {
      "cell_type": "markdown",
      "source": [
        "In order to perform bounding box regression for object detection, all we need to do is adjust our network architecture:\n",
        "\n",
        "\n",
        "At the head of the network, place a fully-connected layer with four neurons, corresponding to the top-left and bottom-right (x, y)-coordinates, respectively.\n",
        "\n",
        "Given that four-neuron layer, implement a sigmoid activation function such that the outputs are returned in the range [0, 1].\n",
        "\n",
        "Train the model using a loss function such as mean-squared error or mean-absolute error on training data that consists of:\n",
        "\n",
        "(1) the input images \n",
        "\n",
        "(2) the bounding box of the object in the image."
      ],
      "metadata": {
        "id": "sbSOqBq_SfRy"
      }
    },
    {
      "cell_type": "markdown",
      "source": [
        "1. Loading our airplane training data from disk (i.e., both class labels and bounding box coordinates)\n",
        "\n",
        "2. Loading VGG16 from disk (pre-trained on ImageNet), removing the fully-connected classification layer head from the network, and inserting our bounding box regression layer head\n",
        "\n",
        "3. Fine-tuning the bounding box regression layer head on our training data"
      ],
      "metadata": {
        "id": "5wVec9jIUI4u"
      }
    },
    {
      "cell_type": "code",
      "source": [
        "# Load VGG16 with pre-trained ImageNet weights, ensuring the head FC layers are left off\n",
        "# Chopping off the old fully-connected classification layer head --> last layer\n",
        "print(\"[INFO] loading VGG16...\")\n",
        "vgg = VGG16(weights=\"imagenet\", include_top=False, input_tensor=Input(shape=(224, 224, 3)))"
      ],
      "metadata": {
        "colab": {
          "base_uri": "https://localhost:8080/"
        },
        "id": "jJylFuMw8Nyt",
        "outputId": "c3870159-7228-4e0d-e426-3427c3aca1d8"
      },
      "execution_count": 8,
      "outputs": [
        {
          "output_type": "stream",
          "name": "stdout",
          "text": [
            "[INFO] loading VGG16...\n",
            "Downloading data from https://storage.googleapis.com/tensorflow/keras-applications/vgg16/vgg16_weights_tf_dim_ordering_tf_kernels_notop.h5\n",
            "58889256/58889256 [==============================] - 3s 0us/step\n"
          ]
        }
      ]
    },
    {
      "cell_type": "code",
      "source": [
        "model = Sequential()\n",
        "model.add(vgg)\n",
        "model.add(Flatten())\n",
        "model.add(Dense(128, activation = \"relu\"))\n",
        "model.add(Dense(64, activation = \"relu\"))\n",
        "model.add(Dense(32, activation = \"relu\"))\n",
        "# output predictions(bounding box coordinates) --> 4 \n",
        "# We normalized bounding boxed to (0,1), so sigmoid is the best activation function \n",
        "model.add(Dense(4, activation = \"sigmoid\"))\n"
      ],
      "metadata": {
        "id": "AfmG3P2v-njf"
      },
      "execution_count": 9,
      "outputs": []
    },
    {
      "cell_type": "code",
      "source": [
        "# If you set trainable = False on a model or on any layer that has sublayers \n",
        "# that all children layers become non-trainable as well\n",
        "# False on a model or on any layer means freezing them, so as to avoid destroying \n",
        "# any of the information they contain during future training rounds\n",
        "vgg.trainable = False"
      ],
      "metadata": {
        "id": "E5d8wIrB-nXH"
      },
      "execution_count": 10,
      "outputs": []
    },
    {
      "cell_type": "code",
      "source": [
        "model.summary()"
      ],
      "metadata": {
        "colab": {
          "base_uri": "https://localhost:8080/"
        },
        "id": "hud5_byqDoFq",
        "outputId": "810b2de9-e0af-4eb9-8f59-e408e5a335e7"
      },
      "execution_count": 11,
      "outputs": [
        {
          "output_type": "stream",
          "name": "stdout",
          "text": [
            "Model: \"sequential\"\n",
            "_________________________________________________________________\n",
            " Layer (type)                Output Shape              Param #   \n",
            "=================================================================\n",
            " vgg16 (Functional)          (None, 7, 7, 512)         14714688  \n",
            "                                                                 \n",
            " flatten (Flatten)           (None, 25088)             0         \n",
            "                                                                 \n",
            " dense (Dense)               (None, 128)               3211392   \n",
            "                                                                 \n",
            " dense_1 (Dense)             (None, 64)                8256      \n",
            "                                                                 \n",
            " dense_2 (Dense)             (None, 32)                2080      \n",
            "                                                                 \n",
            " dense_3 (Dense)             (None, 4)                 132       \n",
            "                                                                 \n",
            "=================================================================\n",
            "Total params: 17,936,548\n",
            "Trainable params: 3,221,860\n",
            "Non-trainable params: 14,714,688\n",
            "_________________________________________________________________\n"
          ]
        }
      ]
    },
    {
      "cell_type": "code",
      "source": [
        "opt = Adam(learning_rate=1e-4)\n",
        "model.compile(optimizer = opt, loss = \"mse\")"
      ],
      "metadata": {
        "id": "DKMw5hAoFASz"
      },
      "execution_count": 12,
      "outputs": []
    },
    {
      "cell_type": "code",
      "source": [
        "H = model.fit(\n",
        "trainImages, trainTargets,\n",
        "validation_data=(testImages, testTargets),\n",
        "batch_size=32,\n",
        "epochs=25,\n",
        "verbose=1)"
      ],
      "metadata": {
        "colab": {
          "base_uri": "https://localhost:8080/"
        },
        "id": "JyiireRWF1PA",
        "outputId": "e360699c-a9b0-4be1-80c5-a49a6ba554d7"
      },
      "execution_count": 13,
      "outputs": [
        {
          "output_type": "stream",
          "name": "stdout",
          "text": [
            "Epoch 1/25\n",
            "23/23 [==============================] - 16s 244ms/step - loss: 0.0097 - val_loss: 0.0026\n",
            "Epoch 2/25\n",
            "23/23 [==============================] - 4s 167ms/step - loss: 0.0016 - val_loss: 7.4879e-04\n",
            "Epoch 3/25\n",
            "23/23 [==============================] - 4s 168ms/step - loss: 9.4066e-04 - val_loss: 5.9280e-04\n",
            "Epoch 4/25\n",
            "23/23 [==============================] - 4s 169ms/step - loss: 7.2620e-04 - val_loss: 5.7879e-04\n",
            "Epoch 5/25\n",
            "23/23 [==============================] - 4s 169ms/step - loss: 5.9431e-04 - val_loss: 5.2248e-04\n",
            "Epoch 6/25\n",
            "23/23 [==============================] - 4s 169ms/step - loss: 5.1211e-04 - val_loss: 5.0557e-04\n",
            "Epoch 7/25\n",
            "23/23 [==============================] - 4s 170ms/step - loss: 4.3294e-04 - val_loss: 5.4595e-04\n",
            "Epoch 8/25\n",
            "23/23 [==============================] - 4s 172ms/step - loss: 3.6999e-04 - val_loss: 4.9642e-04\n",
            "Epoch 9/25\n",
            "23/23 [==============================] - 4s 171ms/step - loss: 3.0639e-04 - val_loss: 5.0812e-04\n",
            "Epoch 10/25\n",
            "23/23 [==============================] - 4s 172ms/step - loss: 2.5371e-04 - val_loss: 4.7750e-04\n",
            "Epoch 11/25\n",
            "23/23 [==============================] - 4s 173ms/step - loss: 2.1710e-04 - val_loss: 5.2763e-04\n",
            "Epoch 12/25\n",
            "23/23 [==============================] - 4s 173ms/step - loss: 1.9864e-04 - val_loss: 4.7717e-04\n",
            "Epoch 13/25\n",
            "23/23 [==============================] - 4s 174ms/step - loss: 1.6794e-04 - val_loss: 4.8304e-04\n",
            "Epoch 14/25\n",
            "23/23 [==============================] - 4s 176ms/step - loss: 1.4926e-04 - val_loss: 5.2518e-04\n",
            "Epoch 15/25\n",
            "23/23 [==============================] - 4s 177ms/step - loss: 1.4408e-04 - val_loss: 4.8860e-04\n",
            "Epoch 16/25\n",
            "23/23 [==============================] - 4s 177ms/step - loss: 1.2434e-04 - val_loss: 4.8534e-04\n",
            "Epoch 17/25\n",
            "23/23 [==============================] - 4s 177ms/step - loss: 1.0199e-04 - val_loss: 4.7291e-04\n",
            "Epoch 18/25\n",
            "23/23 [==============================] - 4s 177ms/step - loss: 8.3182e-05 - val_loss: 4.7621e-04\n",
            "Epoch 19/25\n",
            "23/23 [==============================] - 4s 176ms/step - loss: 7.8404e-05 - val_loss: 4.9467e-04\n",
            "Epoch 20/25\n",
            "23/23 [==============================] - 4s 175ms/step - loss: 7.0111e-05 - val_loss: 4.6864e-04\n",
            "Epoch 21/25\n",
            "23/23 [==============================] - 4s 174ms/step - loss: 6.5444e-05 - val_loss: 4.8632e-04\n",
            "Epoch 22/25\n",
            "23/23 [==============================] - 4s 174ms/step - loss: 6.3026e-05 - val_loss: 4.9065e-04\n",
            "Epoch 23/25\n",
            "23/23 [==============================] - 4s 176ms/step - loss: 5.1143e-05 - val_loss: 4.6940e-04\n",
            "Epoch 24/25\n",
            "23/23 [==============================] - 4s 174ms/step - loss: 4.5831e-05 - val_loss: 4.8572e-04\n",
            "Epoch 25/25\n",
            "23/23 [==============================] - 4s 173ms/step - loss: 4.3271e-05 - val_loss: 4.8473e-04\n"
          ]
        }
      ]
    },
    {
      "cell_type": "code",
      "source": [
        "model.save(\"Localization.h5\", save_format = \"h5\")"
      ],
      "metadata": {
        "id": "X82QKaLtGiby"
      },
      "execution_count": 16,
      "outputs": []
    },
    {
      "cell_type": "code",
      "source": [
        "# plot the model training history\n",
        "N = H.params['epochs']\n",
        "plt.style.use(\"ggplot\")\n",
        "plt.figure()\n",
        "plt.plot(np.arange(0, N), H.history[\"loss\"], label=\"train_loss\")\n",
        "plt.plot(np.arange(0, N), H.history[\"val_loss\"], label=\"val_loss\")\n",
        "plt.title(\"Bounding Box Regression Loss on Training Set\")\n",
        "plt.xlabel(\"Epoch #\")\n",
        "plt.ylabel(\"Loss\")\n",
        "plt.legend(loc=\"upper right\")"
      ],
      "metadata": {
        "colab": {
          "base_uri": "https://localhost:8080/",
          "height": 316
        },
        "id": "kOlW9NabGzYj",
        "outputId": "8c4dead4-152a-49d9-ecab-aedfe9bc68ef"
      },
      "execution_count": 19,
      "outputs": [
        {
          "output_type": "execute_result",
          "data": {
            "text/plain": [
              "<matplotlib.legend.Legend at 0x7f91214619a0>"
            ]
          },
          "metadata": {},
          "execution_count": 19
        },
        {
          "output_type": "display_data",
          "data": {
            "text/plain": [
              "<Figure size 432x288 with 1 Axes>"
            ],
            "image/png": "[encoded data removed]"
          },
          "metadata": {}
        }
      ]
    },
    {
      "cell_type": "code",
      "source": [
        "H.history"
      ],
      "metadata": {
        "colab": {
          "base_uri": "https://localhost:8080/"
        },
        "id": "19_QvuLNLPqq",
        "outputId": "14ca9192-b90a-42a0-9998-1ea27996e855"
      },
      "execution_count": 20,
      "outputs": [
        {
          "output_type": "execute_result",
          "data": {
            "text/plain": [
              "{'loss': [0.009713246487081051,\n",
              "  0.0016069860430434346,\n",
              "  0.0009406630415469408,\n",
              "  0.0007261961000040174,\n",
              "  0.0005943106370978057,\n",
              "  0.0005121092544868588,\n",
              "  0.0004329399380367249,\n",
              "  0.0003699917288031429,\n",
              "  0.00030638850876130164,\n",
              "  0.00025370673392899334,\n",
              "  0.00021709708380512893,\n",
              "  0.00019864442583639175,\n",
              "  0.00016794400289654732,\n",
              "  0.00014926193398423493,\n",
              "  0.00014407966227736324,\n",
              "  0.00012433961092028767,\n",
              "  0.00010199003736488521,\n",
              "  8.318238542415202e-05,\n",
              "  7.84035655669868e-05,\n",
              "  7.011117122601718e-05,\n",
              "  6.544365169247612e-05,\n",
              "  6.302620022324845e-05,\n",
              "  5.11430662299972e-05,\n",
              "  4.583050758810714e-05,\n",
              "  4.3271407776046544e-05],\n",
              " 'val_loss': [0.0026232432574033737,\n",
              "  0.0007487928378395736,\n",
              "  0.000592797645367682,\n",
              "  0.0005787881673313677,\n",
              "  0.0005224811611697078,\n",
              "  0.0005055658402852714,\n",
              "  0.0005459541571326554,\n",
              "  0.0004964237450622022,\n",
              "  0.0005081190611235797,\n",
              "  0.0004774979897774756,\n",
              "  0.0005276284064166248,\n",
              "  0.00047716902918182313,\n",
              "  0.00048304014489986,\n",
              "  0.000525176408700645,\n",
              "  0.0004885981907136738,\n",
              "  0.00048534368397668004,\n",
              "  0.00047291163355112076,\n",
              "  0.00047620656550861895,\n",
              "  0.0004946684930473566,\n",
              "  0.00046864215983077884,\n",
              "  0.0004863183421548456,\n",
              "  0.0004906540852971375,\n",
              "  0.00046939821913838387,\n",
              "  0.0004857194726355374,\n",
              "  0.00048472537309862673]}"
            ]
          },
          "metadata": {},
          "execution_count": 20
        }
      ]
    },
    {
      "cell_type": "markdown",
      "source": [
        "# Implementing bounding box predictor with Keras and TensorFlow"
      ],
      "metadata": {
        "id": "PAj4p26o6ZYS"
      }
    },
    {
      "cell_type": "code",
      "source": [
        "from tensorflow.keras.models import load_model"
      ],
      "metadata": {
        "id": "5fUVP73b6izu"
      },
      "execution_count": 23,
      "outputs": []
    },
    {
      "cell_type": "code",
      "source": [
        "# load the trained bounding box regressor/model\n",
        "print(\"[INFO] loading object detector...\")\n",
        "model = load_model('/content/Localization.h5')\n"
      ],
      "metadata": {
        "colab": {
          "base_uri": "https://localhost:8080/"
        },
        "id": "P1KweRZmvTTS",
        "outputId": "a82924db-52d8-4773-f961-5fdebe0ed670"
      },
      "execution_count": 24,
      "outputs": [
        {
          "output_type": "stream",
          "name": "stdout",
          "text": [
            "[INFO] loading object detector...\n"
          ]
        }
      ]
    },
    {
      "cell_type": "code",
      "source": [
        "def inference(imagePath):\n",
        "    # Load the input image (in Keras format) -->\n",
        "    # - Numpy Array\n",
        "    # - float32\n",
        "    # Scaling the pixel intensities to the range [0, 1]\n",
        "    image = load_img(imagePath, target_size=(224, 224))\n",
        "    image = img_to_array(image) / 255.0\n",
        "    # Adding a batch dimension\n",
        "    image = np.expand_dims(image, axis=0)\n",
        "\n",
        "    # Make bounding box predictions on the input image\n",
        "    preds = model.predict(image)[0]\n",
        "    return preds\n",
        " "
      ],
      "metadata": {
        "id": "vZCwANus6vza"
      },
      "execution_count": 28,
      "outputs": []
    },
    {
      "cell_type": "code",
      "source": [
        "def draw_bbox(img, preds):\n",
        "    image = np.copy(img)\n",
        "    (startX, startY, endX, endY) = preds\n",
        "    (h, w) = image.shape[:2]\n",
        "\n",
        "    # scale the predicted bounding box coordinates based on the image\n",
        "    # dimensions\n",
        "    startX = int(startX * w)\n",
        "    startY = int(startY * h)\n",
        "    endX = int(endX * w)\n",
        "    endY = int(endY * h)\n",
        "\n",
        "    # draw the predicted bounding box on the image\n",
        "    cv2.rectangle(image, (startX, startY), (endX, endY),(0, 255, 0), 2)\n",
        "    return image"
      ],
      "metadata": {
        "id": "lEXhks28GNCF"
      },
      "execution_count": 29,
      "outputs": []
    },
    {
      "cell_type": "code",
      "source": [
        "imagePath = './dataset/images/image_0100.jpg'\n",
        "image = plt.imread(imagePath)\n",
        "preds = inference(imagePath)\n",
        "image_with_bbox = draw_bbox(image, preds)\n",
        "\n",
        "# show the output image\n",
        "plt.imshow(image_with_bbox)\n"
      ],
      "metadata": {
        "colab": {
          "base_uri": "https://localhost:8080/",
          "height": 232
        },
        "id": "yq1_WREaIYHO",
        "outputId": "25ceb7c1-8ef7-4a3c-85c0-9db1f5892103"
      },
      "execution_count": 37,
      "outputs": [
        {
          "output_type": "stream",
          "name": "stdout",
          "text": [
            "1/1 [==============================] - 0s 17ms/step\n"
          ]
        },
        {
          "output_type": "execute_result",
          "data": {
            "text/plain": [
              "<matplotlib.image.AxesImage at 0x7f90f7773d60>"
            ]
          },
          "metadata": {},
          "execution_count": 37
        },
        {
          "output_type": "display_data",
          "data": {
            "text/plain": [
              "<Figure size 432x288 with 1 Axes>"
            ],
            "image/png": "[encoded data removed]"
          },
          "metadata": {}
        }
      ]
    },
    {
      "cell_type": "markdown",
      "source": [
        "Source:\n",
        "\n",
        "https://www.pyimagesearch.com/2020/10/05/object-detection-bounding-box-regression-with-keras-tensorflow-and-deep-learning/"
      ],
      "metadata": {
        "id": "DOpNSAVAJUVO"
      }
    }
  ]
}